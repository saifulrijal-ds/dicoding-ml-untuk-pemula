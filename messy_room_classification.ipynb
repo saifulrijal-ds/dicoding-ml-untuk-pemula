{
  "nbformat": 4,
  "nbformat_minor": 0,
  "metadata": {
    "colab": {
      "name": "messy-room-classification.ipynb",
      "provenance": [],
      "mount_file_id": "1-9OUmhajbD0FXELRHOmzkAbISM35PGjA",
      "authorship_tag": "ABX9TyNOyMD3H8eon9q3Gbjiu/rv",
      "include_colab_link": true
    },
    "kernelspec": {
      "name": "python3",
      "display_name": "Python 3"
    }
  },
  "cells": [
    {
      "cell_type": "markdown",
      "metadata": {
        "id": "view-in-github",
        "colab_type": "text"
      },
      "source": [
        "<a href=\"https://colab.research.google.com/github/saifulrijal-ds/dicoding-ml-untuk-pemula/blob/main/messy_room_classification.ipynb\" target=\"_parent\"><img src=\"https://colab.research.google.com/assets/colab-badge.svg\" alt=\"Open In Colab\"/></a>"
      ]
    },
    {
      "cell_type": "code",
      "metadata": {
        "id": "j3jHPDZUOZZ-",
        "outputId": "ee0bd287-a0d2-4b8f-e1e7-120cda1b1349",
        "colab": {
          "base_uri": "https://localhost:8080/",
          "height": 34
        }
      },
      "source": [
        "import tensorflow as tf\n",
        "print(tf.__version__)"
      ],
      "execution_count": 1,
      "outputs": [
        {
          "output_type": "stream",
          "text": [
            "2.3.0\n"
          ],
          "name": "stdout"
        }
      ]
    },
    {
      "cell_type": "code",
      "metadata": {
        "id": "kQvSDPAsPujt"
      },
      "source": [
        "import os"
      ],
      "execution_count": 2,
      "outputs": []
    },
    {
      "cell_type": "code",
      "metadata": {
        "id": "HhDLF4vfV7vp"
      },
      "source": [
        "from tensorflow.keras.preprocessing.image import ImageDataGenerator"
      ],
      "execution_count": 7,
      "outputs": []
    },
    {
      "cell_type": "code",
      "metadata": {
        "id": "T258LFRJQLUi"
      },
      "source": [
        "base_dir = '/content/drive/My Drive/Image Classification with Deep Learning/data/messy-vs-clean-room/images'\n",
        "train_dir = os.path.join(base_dir, 'train')\n",
        "val_dir = os.path.join(base_dir, 'val')"
      ],
      "execution_count": 3,
      "outputs": []
    },
    {
      "cell_type": "code",
      "metadata": {
        "id": "A8Az0X1cS5yw",
        "outputId": "b30c1f64-7a53-45f9-807c-67d99705079b",
        "colab": {
          "base_uri": "https://localhost:8080/",
          "height": 34
        }
      },
      "source": [
        "os.listdir(train_dir)"
      ],
      "execution_count": 4,
      "outputs": [
        {
          "output_type": "execute_result",
          "data": {
            "text/plain": [
              "['clean', 'messy']"
            ]
          },
          "metadata": {
            "tags": []
          },
          "execution_count": 4
        }
      ]
    },
    {
      "cell_type": "code",
      "metadata": {
        "id": "1I5umHsTS-QN",
        "outputId": "4f7c72ea-23b1-4ab4-a8a7-83904687697c",
        "colab": {
          "base_uri": "https://localhost:8080/",
          "height": 34
        }
      },
      "source": [
        "os.listdir(val_dir)"
      ],
      "execution_count": 5,
      "outputs": [
        {
          "output_type": "execute_result",
          "data": {
            "text/plain": [
              "['messy', 'clean']"
            ]
          },
          "metadata": {
            "tags": []
          },
          "execution_count": 5
        }
      ]
    },
    {
      "cell_type": "code",
      "metadata": {
        "id": "69tThq0FTCrL"
      },
      "source": [
        "train_clean_dir = os.path.join(train_dir, 'clean')\n",
        "train_messy_dir = os.path.join(train_dir, 'messy')\n",
        "\n",
        "val_clean_dir = os.path.join(val_dir, 'clean')\n",
        "val_messy_dir = os.path.join(val_dir, 'messy')"
      ],
      "execution_count": 6,
      "outputs": []
    },
    {
      "cell_type": "code",
      "metadata": {
        "id": "GhB5oh_sUlEg"
      },
      "source": [
        "# Pra-pemrosesan dengan mennggunakan ImageDataGenerator\n",
        "# berfungsi utama melakukan augmentasi pada gambar\n",
        "train_datagen = ImageDataGenerator( \n",
        "    rescale=1./255,\n",
        "    rotation_range=20,\n",
        "    horizontal_flip=True,\n",
        "    shear_range=0.2,\n",
        "    fill_mode='nearest'\n",
        ")\n",
        "\n",
        "val_datagen = ImageDataGenerator( \n",
        "    rescale=1./255,\n",
        "    rotation_range=20,\n",
        "    horizontal_flip=True,\n",
        "    shear_range=0.2,\n",
        "    fill_mode='nearest'\n",
        ")"
      ],
      "execution_count": 10,
      "outputs": []
    },
    {
      "cell_type": "code",
      "metadata": {
        "id": "lOruuD38ZTKr",
        "outputId": "78f0d711-642f-4b08-d56f-b225039ca595",
        "colab": {
          "base_uri": "https://localhost:8080/",
          "height": 51
        }
      },
      "source": [
        "train_generator = train_datagen.flow_from_directory( \n",
        "    train_dir,\n",
        "    target_size=(150, 150),\n",
        "    batch_size=4,\n",
        "    class_mode='binary'\n",
        ")\n",
        "\n",
        "val_generator = val_datagen.flow_from_directory( \n",
        "    val_dir,\n",
        "    target_size=(150, 150),\n",
        "    batch_size=4,\n",
        "    class_mode='binary'\n",
        ")"
      ],
      "execution_count": 11,
      "outputs": [
        {
          "output_type": "stream",
          "text": [
            "Found 192 images belonging to 2 classes.\n",
            "Found 20 images belonging to 2 classes.\n"
          ],
          "name": "stdout"
        }
      ]
    },
    {
      "cell_type": "code",
      "metadata": {
        "id": "z594rlyMiMcq"
      },
      "source": [
        "# mendefinisikan dan menyusun CNN model\n",
        "model = tf.keras.models.Sequential([ \n",
        "    tf.keras.layers.Conv2D(32, (3,3), activation='relu', input_shape=(150, 150, 3)),\n",
        "    tf.keras.layers.MaxPooling2D(2, 2),\n",
        "    tf.keras.layers.Conv2D(64, (3,3), activation='relu'),\n",
        "    tf.keras.layers.MaxPooling2D(2,2),\n",
        "    tf.keras.layers.Conv2D(128, (3,3), activation='relu'),\n",
        "    tf.keras.layers.MaxPooling2D(2,2),\n",
        "    tf.keras.layers.Conv2D(128, (3,3), activation='relu'),\n",
        "    tf.keras.layers.MaxPooling2D(2,2),\n",
        "    tf.keras.layers.Flatten(),\n",
        "    tf.keras.layers.Dense(512, activation='relu'),\n",
        "    tf.keras.layers.Dense(1, activation='sigmoid')\n",
        "])\n",
        "\n",
        "model.compile(optimizer='adam', \n",
        "              loss='binary_crossentropy',\n",
        "              metrics=['accuracy'])"
      ],
      "execution_count": 12,
      "outputs": []
    },
    {
      "cell_type": "code",
      "metadata": {
        "id": "PRvFsk5SkfTa",
        "outputId": "0aecba9f-7938-4701-e3e0-6ec76fe19850",
        "colab": {
          "base_uri": "https://localhost:8080/",
          "height": 714
        }
      },
      "source": [
        "model.fit(\n",
        "      train_generator,\n",
        "      steps_per_epoch=25,  # berapa batch yang akan dieksekusi pada setiap epoch\n",
        "      epochs=20, # tambahkan eposchs jika akurasi model belum optimal\n",
        "      validation_data=val_generator, # menampilkan akurasi pengujian data validasi\n",
        "      validation_steps=5,  # berapa batch yang akan dieksekusi pada setiap epoch\n",
        "      verbose=2)"
      ],
      "execution_count": 13,
      "outputs": [
        {
          "output_type": "stream",
          "text": [
            "Epoch 1/20\n",
            "25/25 - 49s - loss: 0.7495 - accuracy: 0.4400 - val_loss: 0.6928 - val_accuracy: 0.5000\n",
            "Epoch 2/20\n",
            "25/25 - 19s - loss: 0.6905 - accuracy: 0.5500 - val_loss: 0.6939 - val_accuracy: 0.5000\n",
            "Epoch 3/20\n",
            "25/25 - 13s - loss: 0.6740 - accuracy: 0.5300 - val_loss: 0.7277 - val_accuracy: 0.5500\n",
            "Epoch 4/20\n",
            "25/25 - 8s - loss: 0.7056 - accuracy: 0.5700 - val_loss: 0.6331 - val_accuracy: 0.8000\n",
            "Epoch 5/20\n",
            "25/25 - 7s - loss: 0.6541 - accuracy: 0.6900 - val_loss: 0.6746 - val_accuracy: 0.5500\n",
            "Epoch 6/20\n",
            "25/25 - 7s - loss: 0.7286 - accuracy: 0.5700 - val_loss: 0.6852 - val_accuracy: 0.6500\n",
            "Epoch 7/20\n",
            "25/25 - 6s - loss: 0.6593 - accuracy: 0.6300 - val_loss: 0.6916 - val_accuracy: 0.5000\n",
            "Epoch 8/20\n",
            "25/25 - 6s - loss: 0.6660 - accuracy: 0.6000 - val_loss: 0.5786 - val_accuracy: 0.7000\n",
            "Epoch 9/20\n",
            "25/25 - 6s - loss: 0.6844 - accuracy: 0.5800 - val_loss: 0.6734 - val_accuracy: 0.6500\n",
            "Epoch 10/20\n",
            "25/25 - 6s - loss: 0.6385 - accuracy: 0.7000 - val_loss: 0.5261 - val_accuracy: 0.7000\n",
            "Epoch 11/20\n",
            "25/25 - 6s - loss: 0.5935 - accuracy: 0.7200 - val_loss: 0.4819 - val_accuracy: 0.7500\n",
            "Epoch 12/20\n",
            "25/25 - 6s - loss: 0.5994 - accuracy: 0.7400 - val_loss: 0.5741 - val_accuracy: 0.7500\n",
            "Epoch 13/20\n",
            "25/25 - 6s - loss: 0.4764 - accuracy: 0.8100 - val_loss: 0.8045 - val_accuracy: 0.6500\n",
            "Epoch 14/20\n",
            "25/25 - 6s - loss: 0.6167 - accuracy: 0.7000 - val_loss: 0.6028 - val_accuracy: 0.7000\n",
            "Epoch 15/20\n",
            "25/25 - 6s - loss: 0.5547 - accuracy: 0.7100 - val_loss: 0.4888 - val_accuracy: 0.7500\n",
            "Epoch 16/20\n",
            "25/25 - 6s - loss: 0.4988 - accuracy: 0.7800 - val_loss: 0.5407 - val_accuracy: 0.7000\n",
            "Epoch 17/20\n",
            "25/25 - 6s - loss: 0.4731 - accuracy: 0.8000 - val_loss: 0.4360 - val_accuracy: 0.8000\n",
            "Epoch 18/20\n",
            "25/25 - 6s - loss: 0.5089 - accuracy: 0.7500 - val_loss: 0.4701 - val_accuracy: 0.8000\n",
            "Epoch 19/20\n",
            "25/25 - 6s - loss: 0.4905 - accuracy: 0.8100 - val_loss: 0.4706 - val_accuracy: 0.7000\n",
            "Epoch 20/20\n",
            "25/25 - 6s - loss: 0.3907 - accuracy: 0.8200 - val_loss: 0.4424 - val_accuracy: 0.7500\n"
          ],
          "name": "stdout"
        },
        {
          "output_type": "execute_result",
          "data": {
            "text/plain": [
              "<tensorflow.python.keras.callbacks.History at 0x7f15eba2a748>"
            ]
          },
          "metadata": {
            "tags": []
          },
          "execution_count": 13
        }
      ]
    },
    {
      "cell_type": "code",
      "metadata": {
        "id": "PPSsAO0VktBT"
      },
      "source": [
        "test_image_dir = '/content/drive/My Drive/Image Classification with Deep Learning/data/messy-vs-clean-room/images/test/0.png'"
      ],
      "execution_count": 14,
      "outputs": []
    },
    {
      "cell_type": "code",
      "metadata": {
        "id": "6C3nH_R6lxHJ"
      },
      "source": [
        "import numpy as np\n",
        "from tensorflow.keras.preprocessing.image import load_img, img_to_array\n",
        "import matplotlib.pyplot as plt\n",
        "%matplotlib inline"
      ],
      "execution_count": 17,
      "outputs": []
    },
    {
      "cell_type": "code",
      "metadata": {
        "id": "gbuC2Nl0mwLd",
        "outputId": "b09b3c4b-baed-41f4-e526-636bc330e49e",
        "colab": {
          "base_uri": "https://localhost:8080/",
          "height": 184
        }
      },
      "source": [
        "img = load_img(test_image_dir, target_size=(150, 150))\n",
        "display(img)\n",
        "img_array = img_to_array(img)\n",
        "x = np.expand_dims(img_array, axis=0)\n",
        "classes = model.predict(x)\n",
        "if classes==0 :\n",
        "  print('clean')\n",
        "else:\n",
        "  print('messy')"
      ],
      "execution_count": 20,
      "outputs": [
        {
          "output_type": "display_data",
          "data": {
            "image/png": "[encoded data removed]",
            "text/plain": [
              "<PIL.Image.Image image mode=RGB size=150x150 at 0x7F15E8201B00>"
            ]
          },
          "metadata": {
            "tags": []
          }
        },
        {
          "output_type": "stream",
          "text": [
            "clean\n"
          ],
          "name": "stdout"
        }
      ]
    },
    {
      "cell_type": "code",
      "metadata": {
        "id": "4azCed3onIYy"
      },
      "source": [
        ""
      ],
      "execution_count": null,
      "outputs": []
    }
  ]
}